{
 "cells": [
  {
   "cell_type": "markdown",
   "metadata": {},
   "source": [
    "# Linear Regression: Predicting California Housing Prices"
   ]
  },
  {
   "cell_type": "markdown",
   "metadata": {},
   "source": [
    "## 1. Load and Explore the Data"
   ]
  },
  {
   "cell_type": "code",
   "execution_count": null,
   "metadata": {},
   "outputs": [],
   "source": [
    "import pandas as pd\n",
    "import numpy as np\n",
    "import matplotlib.pyplot as plt\n",
    "import importlib\n",
    "\n",
    "from sklearn.datasets import fetch_california_housing\n",
    "from tensorflow import keras\n",
    "import ex1_helper as helper"
   ]
  },
  {
   "cell_type": "code",
   "execution_count": null,
   "metadata": {},
   "outputs": [],
   "source": [
    "housing = fetch_california_housing(as_frame=True)\n",
    "full_df = pd.DataFrame(housing.frame)\n",
    "\n",
    "relevant_cols = ['MedInc','MedHouseVal']\n",
    "df = full_df[relevant_cols]\n",
    "print(type(df), df.shape)\n",
    "print(df)"
   ]
  },
  {
   "cell_type": "code",
   "execution_count": null,
   "metadata": {},
   "outputs": [],
   "source": [
    "medInc = df['MedInc']\n",
    "medHouseVal = df['MedHouseVal']\n",
    "\n",
    "plt.scatter(medInc, medHouseVal, s=2, alpha=0.5)\n",
    "plt.xlabel(\"Household income in a district (x $10,000s)\")\n",
    "plt.ylabel(\"House value in a district (x $100,000)\")\n",
    "plt.title(\"House Value vs. Income\")\n",
    "plt.show()"
   ]
  },
  {
   "cell_type": "code",
   "execution_count": null,
   "metadata": {},
   "outputs": [],
   "source": [
    "helper.calculate_stats(medInc)\n",
    "helper.calculate_stats(medHouseVal)"
   ]
  },
  {
   "cell_type": "markdown",
   "metadata": {},
   "source": [
    "## 2. Preprocess the Data"
   ]
  },
  {
   "cell_type": "code",
   "execution_count": null,
   "metadata": {},
   "outputs": [],
   "source": [
    "target = ['MedHouseVal']\n",
    "\n",
    "X_filtered, y_filtered = helper.mask_df(df, ['MedInc'], target)\n",
    "X_train, X_test, y_train, y_test = helper.transform_data(X_filtered, y_filtered)\n",
    "print(X_train, y_train)"
   ]
  },
  {
   "cell_type": "code",
   "execution_count": null,
   "metadata": {},
   "outputs": [],
   "source": [
    "helper.calculate_stats(X_filtered['MedInc'])\n",
    "helper.calculate_stats(y_filtered['MedHouseVal'])"
   ]
  },
  {
   "cell_type": "code",
   "execution_count": null,
   "metadata": {},
   "outputs": [],
   "source": [
    "plt.scatter(df['MedInc'], df['MedHouseVal'], s=2, alpha=0.5, label=\"Non-Processed\")\n",
    "plt.scatter(X_train, y_train, s=2, alpha=0.5, label=\"Processed\")\n",
    "plt.xlabel(\"Household income in a district\")\n",
    "plt.ylabel(\"House value in a district\")\n",
    "plt.title(\"Data comparison\")\n",
    "plt.legend()\n",
    "plt.show()"
   ]
  },
  {
   "cell_type": "markdown",
   "metadata": {},
   "source": [
    "## 3. Build a Linear Regression Model\n",
    "\n",
    "[Tensorflow documentation](https://www.tensorflow.org/tutorials/keras/regression)"
   ]
  },
  {
   "cell_type": "markdown",
   "metadata": {},
   "source": [
    "### Stochastic Gradient Descent (SGD)"
   ]
  },
  {
   "cell_type": "code",
   "execution_count": null,
   "metadata": {},
   "outputs": [],
   "source": [
    "sgd_model = helper.create_model(0.01, X_train.shape[1])\n",
    "sgd_history = sgd_model.fit(X_train, y_train, epochs=10, batch_size=1, verbose=0)\n",
    "helper.show_history(sgd_history)"
   ]
  },
  {
   "cell_type": "markdown",
   "metadata": {},
   "source": [
    "### Batch Gradient Descent (BGD)"
   ]
  },
  {
   "cell_type": "code",
   "execution_count": null,
   "metadata": {},
   "outputs": [],
   "source": [
    "bgd_model = helper.create_model(0.01, X_train.shape[1])\n",
    "bgd_history = bgd_model.fit(X_train, y_train, epochs=200, batch_size=len(X_train), verbose=0)\n",
    "helper.show_history(bgd_history)"
   ]
  },
  {
   "cell_type": "code",
   "execution_count": null,
   "metadata": {},
   "outputs": [],
   "source": [
    "plt.plot(bgd_history.history['loss'], label='BGD Loss')\n",
    "plt.plot(sgd_history.history['loss'], label='SGD Loss')\n",
    "plt.xlim([0,200])\n",
    "plt.ylim([0, 10])\n",
    "plt.xlabel('Epoch')\n",
    "plt.ylabel('Loss')\n",
    "plt.legend()\n",
    "plt.grid(True)"
   ]
  },
  {
   "cell_type": "markdown",
   "metadata": {},
   "source": [
    "## 4. Make Predictions"
   ]
  },
  {
   "cell_type": "code",
   "execution_count": null,
   "metadata": {},
   "outputs": [],
   "source": [
    "y_pred_bgd = bgd_model.predict(X_test)\n",
    "y_pred_sgd = sgd_model.predict(X_test)"
   ]
  },
  {
   "cell_type": "code",
   "execution_count": null,
   "metadata": {},
   "outputs": [],
   "source": [
    "param = np.array([[8.0]])\n",
    "y_pred_given = bgd_model.predict(param)"
   ]
  },
  {
   "cell_type": "code",
   "execution_count": null,
   "metadata": {},
   "outputs": [],
   "source": [
    "print(y_pred_given)"
   ]
  },
  {
   "cell_type": "code",
   "execution_count": null,
   "metadata": {},
   "outputs": [],
   "source": [
    "mse_bgd = keras.losses.MeanSquaredError()(y_test, y_pred_bgd)\n",
    "mse_sgd = keras.losses.MeanSquaredError()(y_test, y_pred_sgd)\n",
    "print(\"MSE (BGD):\", mse_bgd.numpy())\n",
    "print(\"MSE (SGD):\", mse_sgd.numpy())"
   ]
  },
  {
   "cell_type": "markdown",
   "metadata": {},
   "source": [
    "## 5. Visualize the Results"
   ]
  },
  {
   "cell_type": "code",
   "execution_count": null,
   "metadata": {},
   "outputs": [],
   "source": [
    "plt.scatter(X_test, y_test, s=2, alpha=0.5)\n",
    "plt.plot(X_test, y_pred_bgd, label = 'Batch GD')\n",
    "plt.plot(X_test, y_pred_sgd, label = 'Stochastic GD')\n",
    "plt.xlabel(\"Household income in a district (x $10,000s)\")\n",
    "plt.ylabel(\"House value in a district (x $100,000)\")\n",
    "plt.title(\"Comparison of GD flavours\")\n",
    "plt.legend()\n",
    "plt.show()"
   ]
  },
  {
   "cell_type": "markdown",
   "metadata": {},
   "source": [
    "## Discussion Points\n",
    "• Why does income alone not fully explain house prices? Consider geographic factors (e.g.,\n",
    "coastal vs. inland) and household size.\n",
    "\n",
    "• Increase the number of features you think might improve the model and discuss it.\n"
   ]
  },
  {
   "cell_type": "code",
   "execution_count": null,
   "metadata": {},
   "outputs": [],
   "source": [
    "importlib.reload(helper)"
   ]
  },
  {
   "cell_type": "code",
   "execution_count": null,
   "metadata": {},
   "outputs": [],
   "source": [
    "helper.plot_heatmap(full_df, \"California Housing - Initial heatmap\")"
   ]
  },
  {
   "cell_type": "code",
   "execution_count": null,
   "metadata": {},
   "outputs": [],
   "source": [
    "extended_cols = ['MedInc','AveRooms','HouseAge', 'MedHouseVal']\n",
    "extended_df = full_df[extended_cols]"
   ]
  },
  {
   "cell_type": "code",
   "execution_count": null,
   "metadata": {},
   "outputs": [],
   "source": [
    "# Cluster Longitud and Latitude\n",
    "from sklearn.cluster import KMeans\n",
    "geo_df = full_df[['Latitude', 'Longitude']]\n",
    "kmeans = KMeans(n_clusters=5, random_state=3103)\n",
    "extended_df['LocationCluster'] = kmeans.fit_predict(geo_df)"
   ]
  },
  {
   "cell_type": "markdown",
   "metadata": {},
   "source": [
    "Relying solely on income to predict house prices oversimplifies the problem. Although each available variable exhibits a mild correlation with median house values, their individual contributions are limited. Moreover, key factors like interior finishes and furnished status, which are not recorded, also impact prices. This, combined with unavoidable data arbitrarity, results in additional noise that challenges prediction accuracy."
   ]
  },
  {
   "cell_type": "code",
   "execution_count": null,
   "metadata": {},
   "outputs": [],
   "source": [
    "# Plot the correlation heatmap\n",
    "helper.plot_heatmap(extended_df, \"California Housing - Refined Heatmap\")"
   ]
  },
  {
   "cell_type": "code",
   "execution_count": null,
   "metadata": {},
   "outputs": [],
   "source": [
    "# Preprocess\n",
    "extended_features = ['MedInc', 'AveRooms', 'HouseAge', 'LocationCluster']\n",
    "X_filtered, y_filtered = helper.mask_df(extended_df, extended_features, target)\n",
    "X_train, X_test, y_train, y_test = helper.transform_data(X_filtered, y_filtered)"
   ]
  },
  {
   "cell_type": "code",
   "execution_count": null,
   "metadata": {},
   "outputs": [],
   "source": [
    "# Build model\n",
    "advanced_model = helper.create_model(0.01, 4)\n",
    "advanced_history = advanced_model.fit(X_train, y_train, epochs=200, batch_size=len(X_train), verbose=0)"
   ]
  },
  {
   "cell_type": "code",
   "execution_count": null,
   "metadata": {},
   "outputs": [],
   "source": [
    "# Visualize results\n",
    "y_pred_adv = advanced_model.predict(X_test)\n",
    "mse_adv = keras.losses.MeanSquaredError()(y_test, y_pred_adv)\n",
    "print(\"MSE (adv):\", mse_adv.numpy())\n",
    "helper.show_history(advanced_history)\n",
    "\n",
    "plt.plot(advanced_history.history['loss'], label=f'Advanced - Loss')\n",
    "plt.plot(bgd_history.history['loss'], label=f'BGD - Loss')\n",
    "plt.plot(sgd_history.history['loss'], label=f'SGD - Loss')\n",
    "plt.xlim([0, 200])\n",
    "plt.ylim([0, 10])\n",
    "plt.xlabel('Epoch')\n",
    "plt.ylabel('Loss')\n",
    "plt.legend()\n",
    "plt.grid(True)"
   ]
  },
  {
   "cell_type": "code",
   "execution_count": null,
   "metadata": {},
   "outputs": [],
   "source": [
    "# Visualize clusters\n",
    "plt.figure(figsize=(10, 6))\n",
    "scatter = plt.scatter(full_df['Longitude'], full_df['Latitude'], c=extended_df['LocationCluster'], s=2, alpha=0.5)\n",
    "plt.colorbar(scatter, label='Cluster Label')\n",
    "plt.xlabel('Longitude')\n",
    "plt.ylabel('Latitude')\n",
    "plt.title('KMeans Clusters - based on Latitude and Longitude')\n",
    "plt.show()"
   ]
  },
  {
   "cell_type": "code",
   "execution_count": null,
   "metadata": {},
   "outputs": [],
   "source": [
    "# Plot for Learning rate 0.1\n",
    "sgd_model_2 = helper.create_model(0.1, X_train.shape[1])\n",
    "sgd_history_2 = sgd_model_2.fit(X_train, y_train, epochs=10, batch_size=1, verbose=0)\n",
    "bgd_model_2 = helper.create_model(0.1, X_train.shape[1])\n",
    "bgd_history_2 = bgd_model_2.fit(X_train, y_train, epochs=200, batch_size=len(X_train), verbose=0)\n",
    "plt.plot(bgd_history_2.history['loss'], label='BGD Loss')\n",
    "plt.plot(sgd_history_2.history['loss'], label='SGD Loss')\n",
    "plt.xlim([0,200])\n",
    "plt.ylim([0, 10])\n",
    "plt.xlabel('Epoch')\n",
    "plt.ylabel('Loss')\n",
    "plt.legend()\n",
    "plt.grid(True)"
   ]
  }
 ],
 "metadata": {
  "kernelspec": {
   "display_name": "Python 3",
   "language": "python",
   "name": "python3"
  },
  "language_info": {
   "codemirror_mode": {
    "name": "ipython",
    "version": 3
   },
   "file_extension": ".py",
   "mimetype": "text/x-python",
   "name": "python",
   "nbconvert_exporter": "python",
   "pygments_lexer": "ipython3",
   "version": "3.11.11"
  }
 },
 "nbformat": 4,
 "nbformat_minor": 2
}
