{
 "cells": [
  {
   "cell_type": "markdown",
   "metadata": {},
   "source": [
    "# Linear Regression: Predicting California Housing Prices"
   ]
  },
  {
   "cell_type": "markdown",
   "metadata": {},
   "source": [
    "## 1. Load and Explore the Data\n",
    "• Load the dataset using sklearn.datasets.fetch_california_housing.\n",
    "\n",
    "• Plot a scatter plot of MedInc vs. MedHouseVal to visualize their relationship.\n",
    "\n",
    "• Calculate summary statistics (mean, median, standard deviation) for both variables."
   ]
  },
  {
   "cell_type": "code",
   "execution_count": 1,
   "metadata": {},
   "outputs": [],
   "source": [
    "import pandas as pd\n",
    "import numpy as np\n",
    "import matplotlib.pyplot as plt\n",
    "import importlib\n",
    "\n",
    "from sklearn.datasets import fetch_california_housing\n",
    "from tensorflow import keras\n",
    "import ex1_helper as helper"
   ]
  },
  {
   "cell_type": "code",
   "execution_count": null,
   "metadata": {},
   "outputs": [],
   "source": [
    "housing = fetch_california_housing(as_frame=True)\n",
    "full_df = pd.DataFrame(housing.frame)\n",
    "\n",
    "relevant_cols = ['MedInc','MedHouseVal']\n",
    "df = full_df[relevant_cols]\n",
    "print(type(df), df.shape)"
   ]
  },
  {
   "cell_type": "code",
   "execution_count": null,
   "metadata": {},
   "outputs": [],
   "source": [
    "medInc = df['MedInc']\n",
    "medHouseVal = df['MedHouseVal']\n",
    "\n",
    "plt.scatter(medInc, medHouseVal, s=2, alpha=0.5)\n",
    "plt.xlabel(\"Household income in a district (x $10,000s)\")\n",
    "plt.ylabel(\"House value in a district (x $100,000)\")\n",
    "plt.title(\"House Value vs. Income\")\n",
    "plt.show()"
   ]
  },
  {
   "cell_type": "code",
   "execution_count": null,
   "metadata": {},
   "outputs": [],
   "source": [
    "medInc_mean = round(np.mean(medInc),2)\n",
    "medInc_median = round(np.median(medInc),2)\n",
    "medInc_std = round(np.std(medInc),2)\n",
    "print(f'MedInc: Mean {medInc_mean}. Median {medInc_median}. Std {medInc_std}')\n",
    "\n",
    "medHouseVal_mean = round(np.mean(medHouseVal),2)\n",
    "medHouseVal_median = round(np.median(medHouseVal),2)\n",
    "medHouseVal_std = round(np.std(medHouseVal),2)\n",
    "print(f'MedHouseVal: Mean {medHouseVal_mean}. Median {medHouseVal_median}. Std {medHouseVal_std}')"
   ]
  },
  {
   "cell_type": "markdown",
   "metadata": {},
   "source": [
    "## 2. Preprocess the Data\n",
    "• Split the data into training (80%) and testing (20%) sets using train_test_split.\n",
    "\n",
    "• Optional: Standardize the feature using StandardScaler (note: linear regression coefficients\n",
    "are interpretable without standardization)."
   ]
  },
  {
   "cell_type": "code",
   "execution_count": null,
   "metadata": {},
   "outputs": [],
   "source": [
    "mask = df['MedHouseVal'] < 5\n",
    "target = ['MedHouseVal']\n",
    "\n",
    "X_filtered, y_filtered = helper.mask_df(df, mask, ['MedInc'], target)\n",
    "X_train, X_test, y_train, y_test = helper.transform_data(X_filtered, y_filtered)\n",
    "print(X_train, y_train)"
   ]
  },
  {
   "cell_type": "code",
   "execution_count": null,
   "metadata": {},
   "outputs": [],
   "source": [
    "plt.scatter(df['MedInc'], df['MedHouseVal'], s=2, alpha=0.5, label=\"Non-Processed\")\n",
    "plt.scatter(X_train, y_train, s=2, alpha=0.5, label=\"Processed\")\n",
    "plt.xlabel(\"Household income in a district\")\n",
    "plt.ylabel(\"House value in a district\")\n",
    "plt.title(\"Data comparison\")\n",
    "plt.legend()\n",
    "plt.show()"
   ]
  },
  {
   "cell_type": "markdown",
   "metadata": {},
   "source": [
    "## 3. Build a Linear Regression Model\n",
    "\n",
    "[Tensorflow documentation](https://www.tensorflow.org/tutorials/keras/regression)"
   ]
  },
  {
   "cell_type": "markdown",
   "metadata": {},
   "source": [
    "### Batch Gradient Descent (BGD)"
   ]
  },
  {
   "cell_type": "code",
   "execution_count": null,
   "metadata": {},
   "outputs": [],
   "source": [
    "bgd_model = helper.create_model(0.01, 1)\n",
    "bgd_history = bgd_model.fit(X_train, y_train, epochs=200, batch_size=len(X_train), verbose=0)\n",
    "helper.show_history(bgd_history)"
   ]
  },
  {
   "cell_type": "markdown",
   "metadata": {},
   "source": [
    "### Stochastic Gradient Descent (SGD)"
   ]
  },
  {
   "cell_type": "code",
   "execution_count": null,
   "metadata": {},
   "outputs": [],
   "source": [
    "sgd_model = helper.create_model(0.01, 1)\n",
    "sgd_history = sgd_model.fit(X_train, y_train, epochs=10, batch_size=1, verbose=0)\n",
    "helper.show_history(sgd_history)"
   ]
  },
  {
   "cell_type": "code",
   "execution_count": null,
   "metadata": {},
   "outputs": [],
   "source": [
    "plt.plot(bgd_history.history['loss'], label='BGD Loss')\n",
    "plt.plot(sgd_history.history['loss'], label='SGD Loss')\n",
    "plt.xlim([0,200])\n",
    "plt.ylim([0, 10])\n",
    "plt.xlabel('Epoch')\n",
    "plt.ylabel('Loss')\n",
    "plt.legend()\n",
    "plt.grid(True)"
   ]
  },
  {
   "cell_type": "markdown",
   "metadata": {},
   "source": [
    "## 4. Make Predictions\n",
    "• Predict house values for the test set.\n",
    "\n",
    "• Predict the house value for a district with a median income of $80,000 (MedInc = 8.0)."
   ]
  },
  {
   "cell_type": "code",
   "execution_count": null,
   "metadata": {},
   "outputs": [],
   "source": [
    "y_pred_bgd = bgd_model.predict(X_test)\n",
    "y_pred_sgd = sgd_model.predict(X_test)"
   ]
  },
  {
   "cell_type": "code",
   "execution_count": null,
   "metadata": {},
   "outputs": [],
   "source": [
    "mse_bgd = keras.losses.MeanSquaredError()(y_test, y_pred_bgd)\n",
    "mse_sgd = keras.losses.MeanSquaredError()(y_test, y_pred_sgd)\n",
    "print(\"MSE (BGD):\", mse_bgd.numpy())\n",
    "print(\"MSE (SGD):\", mse_sgd.numpy())"
   ]
  },
  {
   "cell_type": "markdown",
   "metadata": {},
   "source": [
    "## 5. Visualize the Results\n",
    "• Plot the regression line overlaid on the test data scatter plot.\n",
    "\n",
    "• Label axes appropriately and include a legend"
   ]
  },
  {
   "cell_type": "code",
   "execution_count": null,
   "metadata": {},
   "outputs": [],
   "source": [
    "plt.scatter(X_test, y_test, s=2, alpha=0.5)\n",
    "plt.plot(X_test, y_pred_bgd, label = 'Batch GD')\n",
    "plt.plot(X_test, y_pred_sgd, label = 'Stochastic GD')\n",
    "plt.xlabel(\"Household income in a district (x $10,000s)\")\n",
    "plt.ylabel(\"House value in a district (x $100,000)\")\n",
    "plt.title(\"Comparison of GD flavours\")\n",
    "plt.legend()\n",
    "plt.show()"
   ]
  },
  {
   "cell_type": "markdown",
   "metadata": {},
   "source": [
    "## Discussion Points\n",
    "• Why does income alone not fully explain house prices? Consider geographic factors (e.g.,\n",
    "coastal vs. inland) and household size.\n",
    "\n",
    "• Increase the number of features you think might improve the model and discuss it.\n"
   ]
  },
  {
   "cell_type": "code",
   "execution_count": null,
   "metadata": {},
   "outputs": [],
   "source": [
    "importlib.reload(helper)"
   ]
  },
  {
   "cell_type": "code",
   "execution_count": null,
   "metadata": {},
   "outputs": [],
   "source": [
    "helper.plot_heatmap(full_df, \"California Housing - Initial heatmap\")"
   ]
  },
  {
   "cell_type": "code",
   "execution_count": null,
   "metadata": {},
   "outputs": [],
   "source": [
    "extended_cols = ['MedInc','AveRooms','HouseAge', 'MedHouseVal']\n",
    "extended_df = full_df[extended_cols]"
   ]
  },
  {
   "cell_type": "code",
   "execution_count": null,
   "metadata": {},
   "outputs": [],
   "source": [
    "# Cluster Longitud and Latitude\n",
    "from sklearn.cluster import KMeans\n",
    "geo_df = full_df[['Latitude', 'Longitude']]\n",
    "kmeans = KMeans(n_clusters=5, random_state=3103)\n",
    "extended_df['LocationCluster'] = kmeans.fit_predict(geo_df)"
   ]
  },
  {
   "cell_type": "code",
   "execution_count": null,
   "metadata": {},
   "outputs": [],
   "source": [
    "# Plot the correlation heatmap\n",
    "helper.plot_heatmap(extended_df, \"California Housing - Refined Heatmap\")"
   ]
  },
  {
   "cell_type": "code",
   "execution_count": null,
   "metadata": {},
   "outputs": [],
   "source": [
    "# Preprocess\n",
    "extended_features = ['MedInc', 'AveRooms', 'HouseAge', 'LocationCluster']\n",
    "X_filtered, y_filtered = helper.mask_df(extended_df, mask, extended_features, target)\n",
    "X_train, X_test, y_train, y_test = helper.transform_data(X_filtered, y_filtered)"
   ]
  },
  {
   "cell_type": "code",
   "execution_count": null,
   "metadata": {},
   "outputs": [],
   "source": [
    "# Build model\n",
    "advanced_model = helper.create_model(0.01, 4)\n",
    "advanced_history = advanced_model.fit(X_train, y_train, epochs=200, batch_size=len(X_train), verbose=0)"
   ]
  },
  {
   "cell_type": "code",
   "execution_count": null,
   "metadata": {},
   "outputs": [],
   "source": [
    "# Visualize results\n",
    "y_pred_adv = advanced_model.predict(X_test)\n",
    "mse_adv = keras.losses.MeanSquaredError()(y_test, y_pred_adv)\n",
    "print(\"MSE (adv):\", mse_adv.numpy())\n",
    "helper.show_history(advanced_history)\n",
    "\n",
    "plt.plot(advanced_history.history['loss'], label=f'Advanced - Loss')\n",
    "plt.plot(bgd_history.history['loss'], label=f'BGD - Loss')\n",
    "plt.plot(sgd_history.history['loss'], label=f'SGD - Loss')\n",
    "plt.xlim([0,200])\n",
    "plt.ylim([0, 10])\n",
    "plt.xlabel('Epoch')\n",
    "plt.ylabel('Loss')\n",
    "plt.legend()\n",
    "plt.grid(True)"
   ]
  },
  {
   "cell_type": "code",
   "execution_count": null,
   "metadata": {},
   "outputs": [],
   "source": [
    "# Visualize clusters\n",
    "plt.figure(figsize=(10, 6))\n",
    "scatter = plt.scatter(full_df['Longitude'], full_df['Latitude'], c=extended_df['LocationCluster'], s=2, alpha=0.5)\n",
    "plt.colorbar(scatter, label='Cluster Label')\n",
    "plt.xlabel('Longitude')\n",
    "plt.ylabel('Latitude')\n",
    "plt.title('KMeans Clusters - based on Latitude and Longitude')\n",
    "plt.show()"
   ]
  }
 ],
 "metadata": {
  "kernelspec": {
   "display_name": "Python 3",
   "language": "python",
   "name": "python3"
  },
  "language_info": {
   "codemirror_mode": {
    "name": "ipython",
    "version": 3
   },
   "file_extension": ".py",
   "mimetype": "text/x-python",
   "name": "python",
   "nbconvert_exporter": "python",
   "pygments_lexer": "ipython3",
   "version": "3.11.11"
  }
 },
 "nbformat": 4,
 "nbformat_minor": 2
}
